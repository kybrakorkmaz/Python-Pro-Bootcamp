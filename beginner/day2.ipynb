{
 "cells": [
  {
   "cell_type": "code",
   "execution_count": 1,
   "metadata": {},
   "outputs": [
    {
     "name": "stdout",
     "output_type": "stream",
     "text": [
      "H\n"
     ]
    }
   ],
   "source": [
    "print(\"Hello\"[0])"
   ]
  },
  {
   "cell_type": "code",
   "execution_count": 2,
   "metadata": {},
   "outputs": [
    {
     "name": "stdout",
     "output_type": "stream",
     "text": [
      "123345\n"
     ]
    }
   ],
   "source": [
    "print(\"123\"+\"345\")"
   ]
  },
  {
   "cell_type": "code",
   "execution_count": 3,
   "metadata": {},
   "outputs": [
    {
     "name": "stdout",
     "output_type": "stream",
     "text": [
      "468\n"
     ]
    }
   ],
   "source": [
    "#integer\n",
    "print(123+345)"
   ]
  },
  {
   "cell_type": "code",
   "execution_count": 4,
   "metadata": {},
   "outputs": [],
   "source": [
    "#boolean\n",
    "#\"False\" is a string\n",
    "#bool=false is a boolean"
   ]
  },
  {
   "cell_type": "code",
   "execution_count": 5,
   "metadata": {},
   "outputs": [
    {
     "name": "stdout",
     "output_type": "stream",
     "text": [
      "<class 'int'>\n"
     ]
    }
   ],
   "source": [
    "num_char=len(input(\"What is your name?\"))\n",
    "print(type(num_char))"
   ]
  },
  {
   "cell_type": "code",
   "execution_count": 6,
   "metadata": {},
   "outputs": [
    {
     "name": "stdout",
     "output_type": "stream",
     "text": [
      "<class 'str'>\n"
     ]
    }
   ],
   "source": [
    "nem_num_char=str(num_char)\n",
    "print(type(nem_num_char))"
   ]
  },
  {
   "cell_type": "code",
   "execution_count": 8,
   "metadata": {},
   "outputs": [
    {
     "name": "stdout",
     "output_type": "stream",
     "text": [
      "8\n"
     ]
    }
   ],
   "source": [
    "#Write a program that adds the digits in a 2 digit number.\n",
    "#e.g. if the input was 35, then the output should be 3 + 5 = 8\n",
    "two_digit_number = input()\n",
    "# 🚨 Don't change the code above 👆\n",
    "####################################\n",
    "# Write your code below this line 👇\n",
    "str_digits=str(two_digit_number)\n",
    "digit1=str_digits[0]\n",
    "digit2=str_digits[1]\n",
    "int_digit1=int(digit1)\n",
    "int_digit2=int(digit2)\n",
    "print(int_digit1+int_digit2)"
   ]
  },
  {
   "cell_type": "code",
   "execution_count": 12,
   "metadata": {},
   "outputs": [
    {
     "name": "stdout",
     "output_type": "stream",
     "text": [
      "26\n"
     ]
    }
   ],
   "source": [
    "#BMI Calculator\n",
    "#Write a program that calculates the Body Mass Index (BMI) \n",
    "#from a user's weight and height.\n",
    "#bölme işlemi yapılacak sayıları float olarak alınır\n",
    "#aksi taktirde base 10 hatası oluşur\n",
    "# 1st input: enter height in meters e.g: 1.65\n",
    "height = input()\n",
    "# 2nd input: enter weight in kilograms e.g: 72\n",
    "weight = input()\n",
    "# 🚨 Don't change the code above 👆\n",
    "\n",
    "# Write your code below this line 👇\n",
    "f_weight=float(weight)\n",
    "f_height=float(height)\n",
    "bmi=int(f_weight/(f_height*f_height))\n",
    "print(bmi)"
   ]
  },
  {
   "cell_type": "code",
   "execution_count": 14,
   "metadata": {},
   "outputs": [
    {
     "name": "stdout",
     "output_type": "stream",
     "text": [
      "0.67\n",
      "0.7\n",
      "0.667\n"
     ]
    }
   ],
   "source": [
    "print(round(2/3, 2))\n",
    "print(round(2/3, 1))\n",
    "print(round(2/3, 3))"
   ]
  },
  {
   "cell_type": "code",
   "execution_count": 16,
   "metadata": {},
   "outputs": [
    {
     "name": "stdout",
     "output_type": "stream",
     "text": [
      "2.6666666666666665\n",
      "2\n"
     ]
    }
   ],
   "source": [
    "print(8/3)\n",
    "print(8//3)"
   ]
  },
  {
   "cell_type": "code",
   "execution_count": 24,
   "metadata": {},
   "outputs": [
    {
     "name": "stdout",
     "output_type": "stream",
     "text": [
      "your score is 0, your height is 1.8,you are winning is True\n"
     ]
    }
   ],
   "source": [
    "score=0\n",
    "height=1.8\n",
    "isWinning=True\n",
    "#f-string\n",
    "print(f\"your score is {score}, your height is {height},you are winning is {isWinning}\")"
   ]
  },
  {
   "cell_type": "code",
   "execution_count": 1,
   "metadata": {},
   "outputs": [
    {
     "name": "stdout",
     "output_type": "stream",
     "text": [
      "You have 3900 weeks left\n"
     ]
    }
   ],
   "source": [
    "#life in weeks\n",
    "age = input()\n",
    "# 🚨 Don't change the code above 👆\n",
    "# Write your code below this line 👇\n",
    "max_age=90\n",
    "age=int(age)\n",
    "age_left=(max_age)-age\n",
    "weeks=52\n",
    "weeks_left=weeks*age_left\n",
    "print(f\"You have {weeks_left} weeks left\")"
   ]
  },
  {
   "cell_type": "code",
   "execution_count": 7,
   "metadata": {},
   "outputs": [
    {
     "name": "stdout",
     "output_type": "stream",
     "text": [
      "Welcome to the tip calculator!\n",
      "Each person should pay: $33.6\n",
      "Each person should pay: $33.60\n"
     ]
    }
   ],
   "source": [
    "print(\"Welcome to the tip calculator!\")\n",
    "bill=float(input(\"What was the total bill?\"))\n",
    "tip_percentage=int(input(\"How much tip would you like to give? 10, 12, or 15?\"))\n",
    "people=int(input(\"How many people to split the bill?\"))\n",
    "tip=bill*(tip_percentage/100)\n",
    "total_bill=bill+tip\n",
    "payment=round(total_bill/people, 2)\n",
    "final_amount=\"{:.2f}\".format(payment)\n",
    "print(f\"Each person should pay: ${payment}\")\n",
    "print(f\"Each person should pay: ${final_amount}\")"
   ]
  },
  {
   "cell_type": "code",
   "execution_count": null,
   "metadata": {},
   "outputs": [],
   "source": [
    "\n"
   ]
  }
 ],
 "metadata": {
  "kernelspec": {
   "display_name": "Python 3",
   "language": "python",
   "name": "python3"
  },
  "language_info": {
   "codemirror_mode": {
    "name": "ipython",
    "version": 3
   },
   "file_extension": ".py",
   "mimetype": "text/x-python",
   "name": "python",
   "nbconvert_exporter": "python",
   "pygments_lexer": "ipython3",
   "version": "3.11.0"
  }
 },
 "nbformat": 4,
 "nbformat_minor": 2
}
